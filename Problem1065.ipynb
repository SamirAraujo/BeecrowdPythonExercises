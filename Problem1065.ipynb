{
 "cells": [
  {
   "cell_type": "markdown",
   "id": "712a9774-091e-4fb2-9a01-30cbabf2d5dc",
   "metadata": {},
   "source": [
    "Problem: https://www.beecrowd.com.br/judge/pt/problems/view/1065"
   ]
  },
  {
   "cell_type": "code",
   "execution_count": null,
   "id": "0405d3c3-8186-4140-900c-e166f828b383",
   "metadata": {},
   "outputs": [],
   "source": [
    "A=int(input())\n",
    "B=int(input())\n",
    "C=int(input())\n",
    "D=int(input())\n",
    "E=int(input())\n",
    "lista = [A,B,C,D,E]\n",
    "count = 0\n",
    "\n",
    "for x in lista:\n",
    "    if x%2 == 0:\n",
    "        count=count+1\n",
    "        \n",
    "        \n",
    "print(count,\"valores pares\")"
   ]
  }
 ],
 "metadata": {
  "kernelspec": {
   "display_name": "Python 3 (ipykernel)",
   "language": "python",
   "name": "python3"
  },
  "language_info": {
   "codemirror_mode": {
    "name": "ipython",
    "version": 3
   },
   "file_extension": ".py",
   "mimetype": "text/x-python",
   "name": "python",
   "nbconvert_exporter": "python",
   "pygments_lexer": "ipython3",
   "version": "3.10.8"
  }
 },
 "nbformat": 4,
 "nbformat_minor": 5
}
