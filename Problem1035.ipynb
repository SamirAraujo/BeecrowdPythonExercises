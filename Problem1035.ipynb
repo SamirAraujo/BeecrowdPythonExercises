{
 "cells": [
  {
   "cell_type": "markdown",
   "id": "a7e86c00-33c0-4253-a1fc-d2528a26c484",
   "metadata": {},
   "source": [
    "Problem: https://www.beecrowd.com.br/judge/pt/problems/view/1035"
   ]
  },
  {
   "cell_type": "code",
   "execution_count": null,
   "id": "28926934-23c0-483a-84db-08545d4ab15b",
   "metadata": {},
   "outputs": [],
   "source": [
    "Entrada = input().split()\n",
    "A, B, C, D = int(Entrada[0]), int(Entrada[1]), int(Entrada[2]), int(Entrada[3])\n",
    "X = A%2\n",
    "\n",
    "\n",
    "rules = (B>C, D>A, C+D>A+B, C>0, D>0, X==0)\n",
    "\n",
    "if all(rules):\n",
    "    print(\"Valores aceitos\")\n",
    "    \n",
    "else:\n",
    "    \n",
    "    print(\"Valores nao aceitos\")  "
   ]
  },
  {
   "cell_type": "code",
   "execution_count": null,
   "id": "23096a86-724a-4af9-ba76-f3ee4010b737",
   "metadata": {},
   "outputs": [],
   "source": []
  }
 ],
 "metadata": {
  "kernelspec": {
   "display_name": "Python 3 (ipykernel)",
   "language": "python",
   "name": "python3"
  },
  "language_info": {
   "codemirror_mode": {
    "name": "ipython",
    "version": 3
   },
   "file_extension": ".py",
   "mimetype": "text/x-python",
   "name": "python",
   "nbconvert_exporter": "python",
   "pygments_lexer": "ipython3",
   "version": "3.10.8"
  }
 },
 "nbformat": 4,
 "nbformat_minor": 5
}
