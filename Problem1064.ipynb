{
 "cells": [
  {
   "cell_type": "markdown",
   "id": "fafab4de-94bf-406d-b3c3-d14f4a61813c",
   "metadata": {},
   "source": [
    "Problem: https://www.beecrowd.com.br/judge/pt/problems/view/1064"
   ]
  },
  {
   "cell_type": "code",
   "execution_count": null,
   "id": "1e2599c2-2dba-458b-9677-3e41eb3a0f7b",
   "metadata": {},
   "outputs": [],
   "source": [
    "A=float(input())\n",
    "B=float(input())\n",
    "C=float(input())\n",
    "D=float(input())\n",
    "E=float(input())\n",
    "F=float(input())\n",
    "lista = [A,B,C,D,E,F]\n",
    "count = 0\n",
    "media = 0\n",
    "\n",
    "for x in lista:\n",
    "    if x>0:\n",
    "        count=count+1\n",
    "        media=media+x\n",
    "\n",
    "Average = media / count\n",
    "        \n",
    "print(count,\"valores positivos\")\n",
    "print(round(Average,1))"
   ]
  },
  {
   "cell_type": "code",
   "execution_count": null,
   "id": "aadde915-fefd-497f-8382-637763fdaf32",
   "metadata": {},
   "outputs": [],
   "source": []
  }
 ],
 "metadata": {
  "kernelspec": {
   "display_name": "Python 3 (ipykernel)",
   "language": "python",
   "name": "python3"
  },
  "language_info": {
   "codemirror_mode": {
    "name": "ipython",
    "version": 3
   },
   "file_extension": ".py",
   "mimetype": "text/x-python",
   "name": "python",
   "nbconvert_exporter": "python",
   "pygments_lexer": "ipython3",
   "version": "3.10.8"
  }
 },
 "nbformat": 4,
 "nbformat_minor": 5
}
