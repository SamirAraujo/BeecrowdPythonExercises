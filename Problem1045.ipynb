{
 "cells": [
  {
   "cell_type": "markdown",
   "id": "e8b9f140-8c41-46d0-8e32-79593b652114",
   "metadata": {},
   "source": [
    "Problem: https://www.beecrowd.com.br/judge/pt/problems/view/1045"
   ]
  },
  {
   "cell_type": "code",
   "execution_count": null,
   "id": "3164b31d-1771-47ce-a715-9e4efd25d46d",
   "metadata": {},
   "outputs": [],
   "source": [
    "Entrada = list(map(float,input().split()))\n",
    "ordem = sorted(Entrada,reverse=True)\n",
    "A,B,C = ordem[0],ordem[1],ordem[2]\n",
    "\n",
    "Aux=0\n",
    "\n",
    "if A>=B+C:\n",
    "    print(\"NAO FORMA TRIANGULO\")\n",
    "    Aux = 1\n",
    "    \n",
    "if A*A == B*B+C*C and Aux == 0:\n",
    "    print(\"TRIANGULO RETANGULO\")\n",
    "\n",
    "if A*A>B*B+C*C and Aux == 0:\n",
    "    print(\"TRIANGULO OBTUSANGULO\")\n",
    "\n",
    "if A*A<B*B+C*C and Aux == 0:\n",
    "    print(\"TRIANGULO ACUTANGULO\")\n",
    "    \n",
    "if A == B and B == C and C==A and Aux == 0:\n",
    "    print(\"TRIANGULO EQUILATERO\")\n",
    "\n",
    "if (A == B and C != A) or (B == C and A != B) and Aux ==0:\n",
    "    print(\"TRIANGULO ISOSCELES\")"
   ]
  },
  {
   "cell_type": "code",
   "execution_count": null,
   "id": "cb437850-44f0-439d-af76-2b4d856b8a5c",
   "metadata": {},
   "outputs": [],
   "source": []
  }
 ],
 "metadata": {
  "kernelspec": {
   "display_name": "Python 3 (ipykernel)",
   "language": "python",
   "name": "python3"
  },
  "language_info": {
   "codemirror_mode": {
    "name": "ipython",
    "version": 3
   },
   "file_extension": ".py",
   "mimetype": "text/x-python",
   "name": "python",
   "nbconvert_exporter": "python",
   "pygments_lexer": "ipython3",
   "version": "3.10.8"
  }
 },
 "nbformat": 4,
 "nbformat_minor": 5
}
