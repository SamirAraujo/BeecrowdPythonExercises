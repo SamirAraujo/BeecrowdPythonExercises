{
 "cells": [
  {
   "cell_type": "markdown",
   "id": "4d50782d-f86c-464a-8ac9-7e614b83b6d6",
   "metadata": {},
   "source": [
    "Problem: https://www.beecrowd.com.br/judge/pt/problems/view/1066"
   ]
  },
  {
   "cell_type": "code",
   "execution_count": null,
   "id": "bf05b92b-cf1d-4057-84ba-15f3249ed6a1",
   "metadata": {},
   "outputs": [],
   "source": [
    "A=int(input())\n",
    "B=int(input())\n",
    "C=int(input())\n",
    "D=int(input())\n",
    "E=int(input())\n",
    "lista = [A,B,C,D,E]\n",
    "even = 0\n",
    "odd = 0\n",
    "positive = 0\n",
    "negative = 0\n",
    "\n",
    "\n",
    "for x in lista:\n",
    "    if x%2 == 0:\n",
    "        even = even +1\n",
    "    if x%2 == 1:\n",
    "        odd = odd + 1\n",
    "    if x>0:\n",
    "        positive=positive+1\n",
    "    if x<0:\n",
    "        negative=negative+1\n",
    "        \n",
    "print(even,\"valor(es) par(es)\")\n",
    "print(odd,\"valor(es) impar(es)\")\n",
    "print(positive,\"valor(es) positivo(s)\")\n",
    "print(negative,\"valor(es) negativo(s)\")"
   ]
  },
  {
   "cell_type": "code",
   "execution_count": null,
   "id": "2ed3cf7d-4d9b-4737-b4b6-6ed1147ea5ef",
   "metadata": {},
   "outputs": [],
   "source": []
  }
 ],
 "metadata": {
  "kernelspec": {
   "display_name": "Python 3 (ipykernel)",
   "language": "python",
   "name": "python3"
  },
  "language_info": {
   "codemirror_mode": {
    "name": "ipython",
    "version": 3
   },
   "file_extension": ".py",
   "mimetype": "text/x-python",
   "name": "python",
   "nbconvert_exporter": "python",
   "pygments_lexer": "ipython3",
   "version": "3.10.8"
  }
 },
 "nbformat": 4,
 "nbformat_minor": 5
}
