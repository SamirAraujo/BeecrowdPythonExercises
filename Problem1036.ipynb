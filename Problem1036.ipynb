{
 "cells": [
  {
   "cell_type": "markdown",
   "id": "6d8047b8-9cf7-4b78-abb7-d1a680dc1e91",
   "metadata": {},
   "source": [
    "Problem: https://www.beecrowd.com.br/judge/pt/problems/view/1036"
   ]
  },
  {
   "cell_type": "code",
   "execution_count": null,
   "id": "bcace340-b1be-464e-947b-9a702e211f5b",
   "metadata": {},
   "outputs": [],
   "source": [
    "import math as math\n",
    "\n",
    "Entrada = input().split()\n",
    "a, b, c = float(Entrada[0]),float(Entrada[1]), float(Entrada[2])\n",
    "Delta = b*b - 4*a*c\n",
    "\n",
    "\n",
    "if (Delta<0 or a == 0):\n",
    "    \n",
    "    print(\"Impossivel calcular\")\n",
    "\n",
    "else:\n",
    "    SqrtDelta = math.sqrt(Delta)\n",
    "    R1 = (-b+SqrtDelta) / (2*a)\n",
    "    R2 = (-b-SqrtDelta) / (2*a)\n",
    "\n",
    "    print(f'R1 = {R1:.5f}')\n",
    "    print(f'R2 = {R2:.5f}')"
   ]
  },
  {
   "cell_type": "code",
   "execution_count": null,
   "id": "c1d9717b-e689-4357-b4ba-2bb66033001d",
   "metadata": {},
   "outputs": [],
   "source": []
  }
 ],
 "metadata": {
  "kernelspec": {
   "display_name": "Python 3 (ipykernel)",
   "language": "python",
   "name": "python3"
  },
  "language_info": {
   "codemirror_mode": {
    "name": "ipython",
    "version": 3
   },
   "file_extension": ".py",
   "mimetype": "text/x-python",
   "name": "python",
   "nbconvert_exporter": "python",
   "pygments_lexer": "ipython3",
   "version": "3.10.8"
  }
 },
 "nbformat": 4,
 "nbformat_minor": 5
}
