{
 "cells": [
  {
   "cell_type": "markdown",
   "id": "a07c5f7f-fa57-417c-9230-26728efef694",
   "metadata": {},
   "source": [
    "Problem: https://www.beecrowd.com.br/judge/pt/problems/view/1005"
   ]
  },
  {
   "cell_type": "code",
   "execution_count": null,
   "id": "a97cc6e1-a021-41fb-a409-640e74d14e9a",
   "metadata": {},
   "outputs": [],
   "source": [
    "A = float(input())\n",
    "\n",
    "B = float(input())\n",
    "\n",
    "A= round(A,1)\n",
    "B= round(B,1)\n",
    "\n",
    "MEDIA = (3.5*A+7.5*B) / 11\n",
    "MEDIA = \"{:.5f}\".format(MEDIA)\n",
    "print(\"MEDIA =\",MEDIA)"
   ]
  },
  {
   "cell_type": "code",
   "execution_count": null,
   "id": "339cc38b-dbaa-4a4a-a2ed-c4f91c7b15a4",
   "metadata": {},
   "outputs": [],
   "source": []
  }
 ],
 "metadata": {
  "kernelspec": {
   "display_name": "Python 3 (ipykernel)",
   "language": "python",
   "name": "python3"
  },
  "language_info": {
   "codemirror_mode": {
    "name": "ipython",
    "version": 3
   },
   "file_extension": ".py",
   "mimetype": "text/x-python",
   "name": "python",
   "nbconvert_exporter": "python",
   "pygments_lexer": "ipython3",
   "version": "3.10.8"
  }
 },
 "nbformat": 4,
 "nbformat_minor": 5
}
