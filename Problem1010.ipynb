{
 "cells": [
  {
   "cell_type": "markdown",
   "id": "b42cbc8d-c08b-4f43-be7f-127f44dd8d39",
   "metadata": {},
   "source": [
    "Problem: https://www.beecrowd.com.br/judge/pt/problems/view/1010"
   ]
  },
  {
   "cell_type": "code",
   "execution_count": null,
   "id": "f371d04c-9a88-4d9d-9962-30acbbfd54e2",
   "metadata": {},
   "outputs": [],
   "source": [
    "A, B, C = input().split()\n",
    "B = int(B)\n",
    "C = float(C)\n",
    "C = \"{:.2f}\".format(C)\n",
    "C = float(C)\n",
    "\n",
    "\n",
    "D, E, F = input().split()\n",
    "E = int(E)\n",
    "F = float(F)\n",
    "F = \"{:.2f}\".format(F)\n",
    "F = float(F)\n",
    "\n",
    "\n",
    "PAGAR = (B*C+E*F)\n",
    "print(f'VALOR A PAGAR: R$ {PAGAR:.2f}')"
   ]
  },
  {
   "cell_type": "code",
   "execution_count": null,
   "id": "52392544-fafa-4f0b-be7b-5b8fdf8ca5cf",
   "metadata": {},
   "outputs": [],
   "source": []
  }
 ],
 "metadata": {
  "kernelspec": {
   "display_name": "Python 3 (ipykernel)",
   "language": "python",
   "name": "python3"
  },
  "language_info": {
   "codemirror_mode": {
    "name": "ipython",
    "version": 3
   },
   "file_extension": ".py",
   "mimetype": "text/x-python",
   "name": "python",
   "nbconvert_exporter": "python",
   "pygments_lexer": "ipython3",
   "version": "3.10.8"
  }
 },
 "nbformat": 4,
 "nbformat_minor": 5
}
