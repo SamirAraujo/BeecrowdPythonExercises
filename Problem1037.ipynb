{
 "cells": [
  {
   "cell_type": "markdown",
   "id": "80adf424-d968-4407-9f64-c535b8bab276",
   "metadata": {},
   "source": [
    "Problem: https://www.beecrowd.com.br/judge/pt/problems/view/1037"
   ]
  },
  {
   "cell_type": "code",
   "execution_count": null,
   "id": "e19f6a35-d8a9-4ac8-9e47-2cc613d9001d",
   "metadata": {},
   "outputs": [],
   "source": [
    "A = float(input())\n",
    "\n",
    "if 0<=A<=25:\n",
    "    print(\"Intervalo [0,25]\")\n",
    "    \n",
    "        \n",
    "elif 25<A<=50:\n",
    "        print(\"Intervalo (25,50]\")\n",
    "    \n",
    "            \n",
    "elif 50<A<=75:\n",
    "        print(\"Intervalo [50,75]\")\n",
    "    \n",
    "            \n",
    "elif 75<A<=100:\n",
    "        print(\"Intervalo (75,100]\")\n",
    "    \n",
    "            \n",
    "else:\n",
    "    \n",
    "    print(\"Fora de intervalo\")"
   ]
  },
  {
   "cell_type": "code",
   "execution_count": null,
   "id": "787dece9-544e-4902-8be5-b2c28fcb516d",
   "metadata": {},
   "outputs": [],
   "source": []
  }
 ],
 "metadata": {
  "kernelspec": {
   "display_name": "Python 3 (ipykernel)",
   "language": "python",
   "name": "python3"
  },
  "language_info": {
   "codemirror_mode": {
    "name": "ipython",
    "version": 3
   },
   "file_extension": ".py",
   "mimetype": "text/x-python",
   "name": "python",
   "nbconvert_exporter": "python",
   "pygments_lexer": "ipython3",
   "version": "3.10.8"
  }
 },
 "nbformat": 4,
 "nbformat_minor": 5
}
