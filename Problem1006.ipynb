{
 "cells": [
  {
   "cell_type": "markdown",
   "id": "a8d2d241-3c68-40af-91e3-1467a9f124dd",
   "metadata": {},
   "source": [
    "Problem: https://www.beecrowd.com.br/judge/pt/problems/view/1006"
   ]
  },
  {
   "cell_type": "code",
   "execution_count": null,
   "id": "98adbd7a-ce56-45e2-beeb-33b00575b1ed",
   "metadata": {},
   "outputs": [],
   "source": [
    "A = float(input())\n",
    "B = float(input())\n",
    "C = float(input())\n",
    "\n",
    "A= round(A,1)\n",
    "B= round(B,1)\n",
    "\n",
    "MEDIA = (2*A+3*B+5*C) / 10\n",
    "MEDIA = \"{:.1f}\".format(MEDIA)\n",
    "print(\"MEDIA =\",MEDIA)"
   ]
  },
  {
   "cell_type": "code",
   "execution_count": null,
   "id": "b05fcdfd-7c87-498a-8fc5-1c595172622b",
   "metadata": {},
   "outputs": [],
   "source": []
  }
 ],
 "metadata": {
  "kernelspec": {
   "display_name": "Python 3 (ipykernel)",
   "language": "python",
   "name": "python3"
  },
  "language_info": {
   "codemirror_mode": {
    "name": "ipython",
    "version": 3
   },
   "file_extension": ".py",
   "mimetype": "text/x-python",
   "name": "python",
   "nbconvert_exporter": "python",
   "pygments_lexer": "ipython3",
   "version": "3.10.8"
  }
 },
 "nbformat": 4,
 "nbformat_minor": 5
}
