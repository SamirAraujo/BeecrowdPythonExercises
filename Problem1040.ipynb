{
 "cells": [
  {
   "cell_type": "markdown",
   "id": "0a3f414e-c710-4c68-a108-985fa90bfd35",
   "metadata": {},
   "source": [
    "Problem: https://www.beecrowd.com.br/judge/pt/problems/view/1040"
   ]
  },
  {
   "cell_type": "code",
   "execution_count": null,
   "id": "da6c76c8-40e9-4250-aba7-6838b461abbc",
   "metadata": {},
   "outputs": [],
   "source": [
    "N1,N2,N3,N4 = map(float,input().split())\n",
    "\n",
    "Average = (2*N1+3*N2+4*N3+1*N4)/ 10\n",
    "print(\"Media: {:.1f}\".format(Average))\n",
    "\n",
    "if Average>=7:\n",
    "    print(\"Aluno aprovado.\")\n",
    "\n",
    "elif Average<5:\n",
    "    print(\"Aluno reprovado.\")\n",
    "\n",
    "elif 5<=Average<7:\n",
    "    print(\"Aluno em exame.\")\n",
    "    NE = float(input())\n",
    "    print(\"Nota do exame:\",NE)\n",
    "    \n",
    "\n",
    "    NewAverage = (Average + NE) / 2\n",
    "\n",
    "    if NewAverage<5:\n",
    "        print(\"Aluno reprovado.\")\n",
    "        print(\"Media final: {:.1f}\".format(NewAverage))\n",
    "    \n",
    "    else:\n",
    "        print(\"Aluno aprovado.\")\n",
    "        print(\"Media final: {:.1f}\".format(NewAverage))"
   ]
  },
  {
   "cell_type": "code",
   "execution_count": null,
   "id": "837685a6-281f-492f-bc70-78fa1b94c640",
   "metadata": {},
   "outputs": [],
   "source": []
  }
 ],
 "metadata": {
  "kernelspec": {
   "display_name": "Python 3 (ipykernel)",
   "language": "python",
   "name": "python3"
  },
  "language_info": {
   "codemirror_mode": {
    "name": "ipython",
    "version": 3
   },
   "file_extension": ".py",
   "mimetype": "text/x-python",
   "name": "python",
   "nbconvert_exporter": "python",
   "pygments_lexer": "ipython3",
   "version": "3.10.8"
  }
 },
 "nbformat": 4,
 "nbformat_minor": 5
}
