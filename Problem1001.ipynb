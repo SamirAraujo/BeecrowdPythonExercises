{
 "cells": [
  {
   "cell_type": "markdown",
   "id": "af323fbb-f184-4b9c-b20f-a1de6df39dc2",
   "metadata": {},
   "source": [
    "Problem: https://www.beecrowd.com.br/judge/pt/problems/view/1001"
   ]
  },
  {
   "cell_type": "code",
   "execution_count": null,
   "id": "f9aa2a5f-534e-49b2-93d8-16260474265f",
   "metadata": {},
   "outputs": [],
   "source": [
    "A = int(input())\n",
    "\n",
    "B = int(input())\n",
    "\n",
    "X = A+B\n",
    "print(\"X =\",X)"
   ]
  },
  {
   "cell_type": "code",
   "execution_count": null,
   "id": "34260c5b-6c27-4f1e-9474-993744564ef8",
   "metadata": {},
   "outputs": [],
   "source": []
  }
 ],
 "metadata": {
  "kernelspec": {
   "display_name": "Python 3 (ipykernel)",
   "language": "python",
   "name": "python3"
  },
  "language_info": {
   "codemirror_mode": {
    "name": "ipython",
    "version": 3
   },
   "file_extension": ".py",
   "mimetype": "text/x-python",
   "name": "python",
   "nbconvert_exporter": "python",
   "pygments_lexer": "ipython3",
   "version": "3.10.8"
  }
 },
 "nbformat": 4,
 "nbformat_minor": 5
}
