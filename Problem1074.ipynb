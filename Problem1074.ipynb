{
 "cells": [
  {
   "cell_type": "markdown",
   "id": "b35bb856-2bc1-45e1-92a4-cdcb3b2baa6f",
   "metadata": {},
   "source": [
    "Problem: https://www.beecrowd.com.br/judge/pt/problems/view/1074"
   ]
  },
  {
   "cell_type": "code",
   "execution_count": null,
   "id": "00c44cc9-0f27-473a-89e1-45bfd48bd153",
   "metadata": {},
   "outputs": [],
   "source": [
    "N= int(input())\n",
    "count=0\n",
    "\n",
    "\n",
    "while count <N:\n",
    "    X=int(input())\n",
    "    \n",
    "    if X>0 and X%2 ==0:\n",
    "        print(\"EVEN POSITIVE\")\n",
    "        \n",
    "    if X<0 and X%2 ==0:\n",
    "        print(\"EVEN NEGATIVE\")\n",
    "        \n",
    "    if X>0 and X%2 ==1:\n",
    "        print(\"ODD POSITIVE\")\n",
    "        \n",
    "    if X<0 and X%2 ==1:\n",
    "        print(\"ODD NEGATIVE\")\n",
    "        \n",
    "    if X == 0:\n",
    "        print(\"NULL\")\n",
    "\n",
    "    count=count+1"
   ]
  },
  {
   "cell_type": "code",
   "execution_count": null,
   "id": "0b4ee15d-303e-47ea-9367-a961e1223fc4",
   "metadata": {},
   "outputs": [],
   "source": []
  }
 ],
 "metadata": {
  "kernelspec": {
   "display_name": "Python 3 (ipykernel)",
   "language": "python",
   "name": "python3"
  },
  "language_info": {
   "codemirror_mode": {
    "name": "ipython",
    "version": 3
   },
   "file_extension": ".py",
   "mimetype": "text/x-python",
   "name": "python",
   "nbconvert_exporter": "python",
   "pygments_lexer": "ipython3",
   "version": "3.10.8"
  }
 },
 "nbformat": 4,
 "nbformat_minor": 5
}
