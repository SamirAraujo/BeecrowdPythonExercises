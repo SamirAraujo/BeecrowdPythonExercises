{
 "cells": [
  {
   "cell_type": "markdown",
   "id": "f334810c-a213-4616-992c-6b70beb17566",
   "metadata": {},
   "source": [
    "Problem: https://www.beecrowd.com.br/judge/pt/problems/view/1004"
   ]
  },
  {
   "cell_type": "code",
   "execution_count": null,
   "id": "7ce2bf32-2838-49d3-8f56-08dc4c8a60f8",
   "metadata": {},
   "outputs": [],
   "source": [
    "A = int(input())\n",
    "B = int(input())\n",
    "PROD = A*B\n",
    "print(\"PROD =\",PROD)"
   ]
  },
  {
   "cell_type": "code",
   "execution_count": null,
   "id": "3ad6fab9-50d9-4acf-a0ca-1226b7089634",
   "metadata": {},
   "outputs": [],
   "source": []
  }
 ],
 "metadata": {
  "kernelspec": {
   "display_name": "Python 3 (ipykernel)",
   "language": "python",
   "name": "python3"
  },
  "language_info": {
   "codemirror_mode": {
    "name": "ipython",
    "version": 3
   },
   "file_extension": ".py",
   "mimetype": "text/x-python",
   "name": "python",
   "nbconvert_exporter": "python",
   "pygments_lexer": "ipython3",
   "version": "3.10.8"
  }
 },
 "nbformat": 4,
 "nbformat_minor": 5
}
