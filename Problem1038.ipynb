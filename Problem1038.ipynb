{
 "cells": [
  {
   "cell_type": "markdown",
   "id": "98b53238-e7ef-4c90-ac91-41e008a6cb3f",
   "metadata": {},
   "source": [
    "Problem: https://www.beecrowd.com.br/judge/pt/problems/view/1038"
   ]
  },
  {
   "cell_type": "code",
   "execution_count": null,
   "id": "3a164ccd-798f-4791-bf9d-ef33aff91bef",
   "metadata": {},
   "outputs": [],
   "source": [
    "Entrada = input().split()\n",
    "X,Y = int(Entrada[0]),int(Entrada[1])\n",
    "\n",
    "if X == 1:\n",
    "    Pagar = Y*4\n",
    "    \n",
    "elif X == 2:\n",
    "    Pagar = Y*4.5\n",
    "\n",
    "    \n",
    "elif X == 3:\n",
    "    Pagar = Y*5\n",
    "  \n",
    "        \n",
    "elif X == 4:\n",
    "    Pagar = Y*2\n",
    "   \n",
    "            \n",
    "elif X == 5:\n",
    "    Pagar = Y*1.5\n",
    "    \n",
    "print(\"Total: R$ {:.2f}\".format(Pagar))"
   ]
  },
  {
   "cell_type": "code",
   "execution_count": null,
   "id": "224fa55f-13db-4b19-8b08-c82681db7bcc",
   "metadata": {},
   "outputs": [],
   "source": []
  }
 ],
 "metadata": {
  "kernelspec": {
   "display_name": "Python 3 (ipykernel)",
   "language": "python",
   "name": "python3"
  },
  "language_info": {
   "codemirror_mode": {
    "name": "ipython",
    "version": 3
   },
   "file_extension": ".py",
   "mimetype": "text/x-python",
   "name": "python",
   "nbconvert_exporter": "python",
   "pygments_lexer": "ipython3",
   "version": "3.10.8"
  }
 },
 "nbformat": 4,
 "nbformat_minor": 5
}
