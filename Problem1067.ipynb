{
 "cells": [
  {
   "cell_type": "markdown",
   "id": "c8f28f73-922a-4575-a2df-ee3390bdf143",
   "metadata": {},
   "source": [
    "Problem: https://www.beecrowd.com.br/judge/pt/problems/view/1067"
   ]
  },
  {
   "cell_type": "code",
   "execution_count": null,
   "id": "668b31d0-b86f-4244-9472-7fcdff35f198",
   "metadata": {},
   "outputs": [],
   "source": [
    "X = int(input())\n",
    "count = 0\n",
    "\n",
    "while count <= X:\n",
    "    count=count+1\n",
    "    if count%2 == 1 and count<X+1:\n",
    "        print(count)"
   ]
  },
  {
   "cell_type": "code",
   "execution_count": null,
   "id": "8dfd9f11-5f9c-4b91-b23f-b8faab06ce26",
   "metadata": {},
   "outputs": [],
   "source": []
  }
 ],
 "metadata": {
  "kernelspec": {
   "display_name": "Python 3 (ipykernel)",
   "language": "python",
   "name": "python3"
  },
  "language_info": {
   "codemirror_mode": {
    "name": "ipython",
    "version": 3
   },
   "file_extension": ".py",
   "mimetype": "text/x-python",
   "name": "python",
   "nbconvert_exporter": "python",
   "pygments_lexer": "ipython3",
   "version": "3.10.8"
  }
 },
 "nbformat": 4,
 "nbformat_minor": 5
}
