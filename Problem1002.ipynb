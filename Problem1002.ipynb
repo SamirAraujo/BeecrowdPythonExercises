{
 "cells": [
  {
   "cell_type": "markdown",
   "id": "ba917b95-fa30-41c8-b4af-026e7324f32d",
   "metadata": {},
   "source": [
    "Problem: https://www.beecrowd.com.br/judge/pt/problems/view/1002"
   ]
  },
  {
   "cell_type": "code",
   "execution_count": null,
   "id": "8803e573-4b4e-4877-8818-560c4d7b5d4b",
   "metadata": {},
   "outputs": [],
   "source": [
    "n = 3.14159\n",
    "R = round(float(input()),2)\n",
    "A = n * R * R\n",
    "A = round(A,4)\n",
    "A = \"{:.4f}\".format(A)\n",
    "A = str(A)\n",
    "print(\"A=\"+A)"
   ]
  },
  {
   "cell_type": "code",
   "execution_count": null,
   "id": "f246c090-c71c-445d-b4a5-5888a4cdb297",
   "metadata": {},
   "outputs": [],
   "source": []
  }
 ],
 "metadata": {
  "kernelspec": {
   "display_name": "Python 3 (ipykernel)",
   "language": "python",
   "name": "python3"
  },
  "language_info": {
   "codemirror_mode": {
    "name": "ipython",
    "version": 3
   },
   "file_extension": ".py",
   "mimetype": "text/x-python",
   "name": "python",
   "nbconvert_exporter": "python",
   "pygments_lexer": "ipython3",
   "version": "3.10.8"
  }
 },
 "nbformat": 4,
 "nbformat_minor": 5
}
