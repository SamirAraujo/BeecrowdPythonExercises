{
 "cells": [
  {
   "cell_type": "markdown",
   "id": "cffaf8da-3151-47f9-a67b-a51d4b93f9c7",
   "metadata": {},
   "source": [
    "Problem: https://www.beecrowd.com.br/judge/pt/problems/view/1020"
   ]
  },
  {
   "cell_type": "code",
   "execution_count": null,
   "id": "e3a6a31c-f6e6-4e37-b76a-01cdd816dae4",
   "metadata": {},
   "outputs": [],
   "source": [
    "age= int(input())\n",
    "years = age // 365\n",
    "months = (age%365) //30\n",
    "days = (age%365) % 30\n",
    "\n",
    "print(years,\"ano(s)\")\n",
    "print(months,\"mes(es)\")\n",
    "print(days,\"dia(s)\")"
   ]
  },
  {
   "cell_type": "code",
   "execution_count": null,
   "id": "02a90cb4-eaf7-4cc8-9e9d-dac75fa48316",
   "metadata": {},
   "outputs": [],
   "source": []
  }
 ],
 "metadata": {
  "kernelspec": {
   "display_name": "Python 3 (ipykernel)",
   "language": "python",
   "name": "python3"
  },
  "language_info": {
   "codemirror_mode": {
    "name": "ipython",
    "version": 3
   },
   "file_extension": ".py",
   "mimetype": "text/x-python",
   "name": "python",
   "nbconvert_exporter": "python",
   "pygments_lexer": "ipython3",
   "version": "3.10.8"
  }
 },
 "nbformat": 4,
 "nbformat_minor": 5
}
