{
 "cells": [
  {
   "cell_type": "markdown",
   "id": "be744d11-01ad-49cb-bbfc-b8e384e43577",
   "metadata": {},
   "source": [
    "Problem:https://www.beecrowd.com.br/judge/pt/problems/view/1043"
   ]
  },
  {
   "cell_type": "code",
   "execution_count": null,
   "id": "80e30a1f-17cf-414d-b40c-21529e2e1c36",
   "metadata": {},
   "outputs": [],
   "source": [
    "Entrada = map(float,input().split())\n",
    "lista=list(Entrada)\n",
    "L1,L2,L3 = lista[0],lista[1],lista[2]\n",
    "\n",
    "\n",
    "if L1+L2>L3 and L2+L3>L1 and L1+L3>L2:\n",
    "    P = L1+L2+L3\n",
    "    print(\"Perimetro =\",P)\n",
    "    \n",
    "else:\n",
    "    Area = ((L1+L2)*L3 )/ 2 \n",
    "    print(\"Area =\",Area)"
   ]
  }
 ],
 "metadata": {
  "kernelspec": {
   "display_name": "Python 3 (ipykernel)",
   "language": "python",
   "name": "python3"
  },
  "language_info": {
   "codemirror_mode": {
    "name": "ipython",
    "version": 3
   },
   "file_extension": ".py",
   "mimetype": "text/x-python",
   "name": "python",
   "nbconvert_exporter": "python",
   "pygments_lexer": "ipython3",
   "version": "3.10.8"
  }
 },
 "nbformat": 4,
 "nbformat_minor": 5
}
