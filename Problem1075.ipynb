{
 "cells": [
  {
   "cell_type": "markdown",
   "id": "ba1021c0-0012-4ec1-909f-9b81be0a591b",
   "metadata": {},
   "source": [
    "Problem: https://www.beecrowd.com.br/judge/pt/problems/view/1075"
   ]
  },
  {
   "cell_type": "code",
   "execution_count": null,
   "id": "e0dd99e6-8752-4542-bfd5-783c888ebad2",
   "metadata": {},
   "outputs": [],
   "source": [
    "N= int(input())\n",
    "count=0\n",
    "\n",
    "\n",
    "while count <10000:\n",
    "    if count%N == 2:\n",
    "        print(count)\n",
    "    count=count+1\n"
   ]
  },
  {
   "cell_type": "code",
   "execution_count": null,
   "id": "75c3fd26-8fa0-4771-bc57-bd629fec592b",
   "metadata": {},
   "outputs": [],
   "source": []
  }
 ],
 "metadata": {
  "kernelspec": {
   "display_name": "Python 3 (ipykernel)",
   "language": "python",
   "name": "python3"
  },
  "language_info": {
   "codemirror_mode": {
    "name": "ipython",
    "version": 3
   },
   "file_extension": ".py",
   "mimetype": "text/x-python",
   "name": "python",
   "nbconvert_exporter": "python",
   "pygments_lexer": "ipython3",
   "version": "3.10.8"
  }
 },
 "nbformat": 4,
 "nbformat_minor": 5
}
