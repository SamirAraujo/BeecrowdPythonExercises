{
 "cells": [
  {
   "cell_type": "markdown",
   "id": "88ff6e64-7ff1-4134-9ea4-faa1885541d7",
   "metadata": {},
   "source": [
    "Problem: https://www.beecrowd.com.br/judge/pt/problems/view/1071"
   ]
  },
  {
   "cell_type": "code",
   "execution_count": null,
   "id": "9751ad47-e57d-487f-aef1-50fded8a3317",
   "metadata": {},
   "outputs": [],
   "source": [
    "Y =int(input())\n",
    "X =int(input())\n",
    "aux = X+1\n",
    "soma = 0\n",
    "\n",
    "while aux < Y:\n",
    "    if aux%2 == 1:\n",
    "        soma=soma+aux\n",
    "    aux=aux+1\n",
    "\n",
    "print(soma)"
   ]
  },
  {
   "cell_type": "code",
   "execution_count": null,
   "id": "e343f836-0f4a-47d8-b383-1c54a8478537",
   "metadata": {},
   "outputs": [],
   "source": []
  }
 ],
 "metadata": {
  "kernelspec": {
   "display_name": "Python 3 (ipykernel)",
   "language": "python",
   "name": "python3"
  },
  "language_info": {
   "codemirror_mode": {
    "name": "ipython",
    "version": 3
   },
   "file_extension": ".py",
   "mimetype": "text/x-python",
   "name": "python",
   "nbconvert_exporter": "python",
   "pygments_lexer": "ipython3",
   "version": "3.10.8"
  }
 },
 "nbformat": 4,
 "nbformat_minor": 5
}
