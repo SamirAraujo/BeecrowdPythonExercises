{
 "cells": [
  {
   "cell_type": "markdown",
   "id": "726b9bee-438c-45f4-83c5-79ad74a9131e",
   "metadata": {},
   "source": [
    "Problem: https://www.beecrowd.com.br/judge/pt/problems/view/1029"
   ]
  },
  {
   "cell_type": "code",
   "execution_count": null,
   "id": "b16b5f99-89d6-46dd-9506-12bcd0e0df80",
   "metadata": {},
   "outputs": [],
   "source": [
    "fib = [0] * 40\n",
    "fib[0]=0\n",
    "fib[1]=1\n",
    "call = [0] * 40\n",
    "call[0]=0\n",
    "call[1]=0\n",
    "\n",
    "i=2\n",
    "\n",
    "while i<=39:\n",
    "    fib[i]=fib[i-1] + fib[i-2]\n",
    "    call[i]=call[i-1] + call[i-2] +2\n",
    "    i=i+1\n",
    "\n",
    "N = int(input())\n",
    "for m in range(N):\n",
    "    \n",
    "    X = int(input())\n",
    "    print('fib({}) = {} calls = {}'.format(X, call[X], fib[X]))"
   ]
  },
  {
   "cell_type": "code",
   "execution_count": null,
   "id": "1fbc48fd-a750-41fe-aaee-0d2e9dab78da",
   "metadata": {},
   "outputs": [],
   "source": []
  }
 ],
 "metadata": {
  "kernelspec": {
   "display_name": "Python 3 (ipykernel)",
   "language": "python",
   "name": "python3"
  },
  "language_info": {
   "codemirror_mode": {
    "name": "ipython",
    "version": 3
   },
   "file_extension": ".py",
   "mimetype": "text/x-python",
   "name": "python",
   "nbconvert_exporter": "python",
   "pygments_lexer": "ipython3",
   "version": "3.10.8"
  }
 },
 "nbformat": 4,
 "nbformat_minor": 5
}
