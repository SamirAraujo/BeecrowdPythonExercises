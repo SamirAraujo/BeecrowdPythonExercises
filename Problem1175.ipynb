{
 "cells": [
  {
   "cell_type": "markdown",
   "id": "8769e14e-6a9f-4a49-809e-83934053ce56",
   "metadata": {},
   "source": [
    "Problem: https://www.beecrowd.com.br/judge/pt/problems/view/1175"
   ]
  },
  {
   "cell_type": "code",
   "execution_count": null,
   "id": "87fe9423-878d-4c8d-8b1f-a0f42c4c07f5",
   "metadata": {},
   "outputs": [],
   "source": [
    "M = [0]*20\n",
    "N = [0]*20\n",
    "k = 0\n",
    "\n",
    "while k<20:\n",
    "    M[k]=int(input())\n",
    "    k=k+1\n",
    "    \n",
    "    \n",
    "i=19\n",
    "m = 0\n",
    "\n",
    "while i>=0:\n",
    "\n",
    "    N[i]=M[m]\n",
    "    m=m+1\n",
    "    i=i-1\n",
    "\n",
    "for a in range(len(N)):\n",
    "    print(\"N[{}] = {}\".format(a,N[a])) "
   ]
  },
  {
   "cell_type": "code",
   "execution_count": null,
   "id": "dd4645b7-7069-41b2-91d0-850b60f2ffd8",
   "metadata": {},
   "outputs": [],
   "source": []
  }
 ],
 "metadata": {
  "kernelspec": {
   "display_name": "Python 3 (ipykernel)",
   "language": "python",
   "name": "python3"
  },
  "language_info": {
   "codemirror_mode": {
    "name": "ipython",
    "version": 3
   },
   "file_extension": ".py",
   "mimetype": "text/x-python",
   "name": "python",
   "nbconvert_exporter": "python",
   "pygments_lexer": "ipython3",
   "version": "3.10.8"
  }
 },
 "nbformat": 4,
 "nbformat_minor": 5
}
