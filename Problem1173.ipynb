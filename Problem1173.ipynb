{
 "cells": [
  {
   "cell_type": "markdown",
   "id": "5367bb6c-82cb-4ebc-a0ea-b5e1ddd432e7",
   "metadata": {},
   "source": [
    "Problem: https://www.beecrowd.com.br/judge/pt/problems/view/1173"
   ]
  },
  {
   "cell_type": "code",
   "execution_count": null,
   "id": "d6945a7d-1f51-47ec-a673-6b4f1fc1b1dc",
   "metadata": {},
   "outputs": [],
   "source": [
    "N = [0] * 10\n",
    "N[0] = int(input())\n",
    "i=0 \n",
    "\n",
    "while i < 10:\n",
    "    \n",
    "    if i ==0:\n",
    "        print(\"N[{}] = {}\".format(i,N[i]))\n",
    "        i=i+1\n",
    "    else:\n",
    "    \n",
    "        N[i] = N[i-1]*2\n",
    "        print(\"N[{}] = {}\".format(i,N[i]))\n",
    "        i=i+1\n",
    "        "
   ]
  },
  {
   "cell_type": "code",
   "execution_count": null,
   "id": "bb9d95c8-3e3e-45c2-9acf-32b842ccce7f",
   "metadata": {},
   "outputs": [],
   "source": []
  }
 ],
 "metadata": {
  "kernelspec": {
   "display_name": "Python 3 (ipykernel)",
   "language": "python",
   "name": "python3"
  },
  "language_info": {
   "codemirror_mode": {
    "name": "ipython",
    "version": 3
   },
   "file_extension": ".py",
   "mimetype": "text/x-python",
   "name": "python",
   "nbconvert_exporter": "python",
   "pygments_lexer": "ipython3",
   "version": "3.10.8"
  }
 },
 "nbformat": 4,
 "nbformat_minor": 5
}
