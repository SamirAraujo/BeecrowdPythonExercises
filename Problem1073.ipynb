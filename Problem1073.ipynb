{
 "cells": [
  {
   "cell_type": "markdown",
   "id": "3faf9dd7-3e9f-45fb-b5df-75949246bdbc",
   "metadata": {},
   "source": [
    "Problem: https://www.beecrowd.com.br/judge/pt/problems/view/1073"
   ]
  },
  {
   "cell_type": "code",
   "execution_count": null,
   "id": "64ce9d6c-ff4d-4e61-bd55-f947e3776410",
   "metadata": {},
   "outputs": [],
   "source": [
    "N= int(input())\n",
    "count=1\n",
    "\n",
    "\n",
    "while count <=N:\n",
    "    if count%2 ==0:\n",
    "        square = count*count\n",
    "        print(\"{}^2 =\".format(count),square)\n",
    "    count=count+1"
   ]
  },
  {
   "cell_type": "code",
   "execution_count": null,
   "id": "034f870f-5a8a-4557-adbf-c51a84de32ad",
   "metadata": {},
   "outputs": [],
   "source": []
  }
 ],
 "metadata": {
  "kernelspec": {
   "display_name": "Python 3 (ipykernel)",
   "language": "python",
   "name": "python3"
  },
  "language_info": {
   "codemirror_mode": {
    "name": "ipython",
    "version": 3
   },
   "file_extension": ".py",
   "mimetype": "text/x-python",
   "name": "python",
   "nbconvert_exporter": "python",
   "pygments_lexer": "ipython3",
   "version": "3.10.8"
  }
 },
 "nbformat": 4,
 "nbformat_minor": 5
}
