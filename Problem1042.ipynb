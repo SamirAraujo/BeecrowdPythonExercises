{
 "cells": [
  {
   "cell_type": "markdown",
   "id": "59011504-3705-4e08-8f92-f65e5064043e",
   "metadata": {},
   "source": [
    "Problem: https://www.beecrowd.com.br/judge/pt/problems/view/1042"
   ]
  },
  {
   "cell_type": "code",
   "execution_count": null,
   "id": "0508b8b5-3a0b-4983-b5fc-222ad259de1a",
   "metadata": {},
   "outputs": [],
   "source": [
    "Entrada = map(int,input().split())\n",
    "lista = list(Entrada)\n",
    "a = lista[0]\n",
    "b = lista[1]\n",
    "c = lista[2]\n",
    "\n",
    "Lista = sorted(lista)\n",
    "x = Lista[0]\n",
    "y = Lista[1]\n",
    "z = Lista[2]\n",
    "\n",
    "\n",
    "print(x)\n",
    "print(y)\n",
    "print(z)\n",
    "print(\"\")\n",
    "print(a)\n",
    "print(b)\n",
    "print(c)"
   ]
  },
  {
   "cell_type": "code",
   "execution_count": null,
   "id": "211aaf48-03d1-43de-986c-5c405bb616e8",
   "metadata": {},
   "outputs": [],
   "source": []
  }
 ],
 "metadata": {
  "kernelspec": {
   "display_name": "Python 3 (ipykernel)",
   "language": "python",
   "name": "python3"
  },
  "language_info": {
   "codemirror_mode": {
    "name": "ipython",
    "version": 3
   },
   "file_extension": ".py",
   "mimetype": "text/x-python",
   "name": "python",
   "nbconvert_exporter": "python",
   "pygments_lexer": "ipython3",
   "version": "3.10.8"
  }
 },
 "nbformat": 4,
 "nbformat_minor": 5
}
