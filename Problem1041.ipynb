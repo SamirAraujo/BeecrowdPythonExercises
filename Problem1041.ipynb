{
 "cells": [
  {
   "cell_type": "markdown",
   "id": "b546e58d-19dc-47a9-878d-09a3fac1a391",
   "metadata": {},
   "source": [
    "Problem: https://www.beecrowd.com.br/judge/pt/problems/view/1041"
   ]
  },
  {
   "cell_type": "code",
   "execution_count": null,
   "id": "5ee1147a-db0f-4750-995c-e11afa33c746",
   "metadata": {},
   "outputs": [],
   "source": [
    "x,y = map(float,input().split())\n",
    "\n",
    "if x ==0 and y ==0:\n",
    "    print(\"Origem\")\n",
    "    \n",
    "elif x == 0 and y != 0:\n",
    "    print(\"Eixo Y\")\n",
    "    \n",
    "elif y == 0 and x != 0:\n",
    "    print(\"Eixo X\")\n",
    "    \n",
    "elif x>0 and y>0:\n",
    "    print(\"Q1\")\n",
    "    \n",
    "elif x<0 and y<0:\n",
    "    print(\"Q3\")\n",
    "    \n",
    "elif x>0 and y<0:\n",
    "    print(\"Q4\")\n",
    "    \n",
    "elif x<0 and y>0:\n",
    "    print(\"Q2\")"
   ]
  },
  {
   "cell_type": "code",
   "execution_count": null,
   "id": "846a6803-01ee-4b79-a15e-3010fa70925d",
   "metadata": {},
   "outputs": [],
   "source": []
  }
 ],
 "metadata": {
  "kernelspec": {
   "display_name": "Python 3 (ipykernel)",
   "language": "python",
   "name": "python3"
  },
  "language_info": {
   "codemirror_mode": {
    "name": "ipython",
    "version": 3
   },
   "file_extension": ".py",
   "mimetype": "text/x-python",
   "name": "python",
   "nbconvert_exporter": "python",
   "pygments_lexer": "ipython3",
   "version": "3.10.8"
  }
 },
 "nbformat": 4,
 "nbformat_minor": 5
}
