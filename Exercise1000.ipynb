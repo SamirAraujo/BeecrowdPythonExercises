{
 "cells": [
  {
   "cell_type": "markdown",
   "id": "1fa2d9db-3ee7-42c7-b099-356ee7ff2566",
   "metadata": {},
   "source": [
    "Problem: https://www.beecrowd.com.br/judge/pt/problems/view/1000"
   ]
  },
  {
   "cell_type": "code",
   "execution_count": null,
   "id": "f75f6ab5-1b4b-4dcc-a68f-e1fb5f973a0f",
   "metadata": {},
   "outputs": [],
   "source": [
    "#Solution\n",
    "\n",
    "print(\"Hello World!\")"
   ]
  }
 ],
 "metadata": {
  "kernelspec": {
   "display_name": "Python 3 (ipykernel)",
   "language": "python",
   "name": "python3"
  },
  "language_info": {
   "codemirror_mode": {
    "name": "ipython",
    "version": 3
   },
   "file_extension": ".py",
   "mimetype": "text/x-python",
   "name": "python",
   "nbconvert_exporter": "python",
   "pygments_lexer": "ipython3",
   "version": "3.10.8"
  }
 },
 "nbformat": 4,
 "nbformat_minor": 5
}
