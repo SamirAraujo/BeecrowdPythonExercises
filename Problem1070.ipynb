{
 "cells": [
  {
   "cell_type": "markdown",
   "id": "eabb9eaf-3156-424f-a4df-a8a87763fc23",
   "metadata": {},
   "source": [
    "Problem: https://www.beecrowd.com.br/judge/pt/problems/view/1070"
   ]
  },
  {
   "cell_type": "code",
   "execution_count": null,
   "id": "0498da58-4d1c-484a-b149-f98266de7286",
   "metadata": {},
   "outputs": [],
   "source": [
    "X = int(input())\n",
    "count = 6\n",
    "aux = X\n",
    "\n",
    "while count > 0:\n",
    "    if X%2 == 1:\n",
    "        count=count-1\n",
    "        print(X)\n",
    "    X=X+1"
   ]
  },
  {
   "cell_type": "code",
   "execution_count": null,
   "id": "0c471d62-8400-4f5b-b463-ed8afa0c8079",
   "metadata": {},
   "outputs": [],
   "source": []
  }
 ],
 "metadata": {
  "kernelspec": {
   "display_name": "Python 3 (ipykernel)",
   "language": "python",
   "name": "python3"
  },
  "language_info": {
   "codemirror_mode": {
    "name": "ipython",
    "version": 3
   },
   "file_extension": ".py",
   "mimetype": "text/x-python",
   "name": "python",
   "nbconvert_exporter": "python",
   "pygments_lexer": "ipython3",
   "version": "3.10.8"
  }
 },
 "nbformat": 4,
 "nbformat_minor": 5
}
