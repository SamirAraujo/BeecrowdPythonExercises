{
 "cells": [
  {
   "cell_type": "markdown",
   "id": "ae050256-3f38-443b-8a09-da3b559419d7",
   "metadata": {},
   "source": [
    "Problem: https://www.beecrowd.com.br/judge/pt/problems/view/1047"
   ]
  },
  {
   "cell_type": "code",
   "execution_count": null,
   "id": "b3a16400-786a-46c7-a1b1-654e706bc055",
   "metadata": {},
   "outputs": [],
   "source": [
    "Entrada = list(map(int,input().split()))\n",
    "A,B,C,D = Entrada[0],Entrada[1],Entrada[2],Entrada[3]\n",
    "\n",
    "\n",
    "A = A*60\n",
    "C = C*60\n",
    "Ti = A+B\n",
    "Tf = C+D\n",
    "diff = Tf -Ti \n",
    "\n",
    "if Ti >= Tf:\n",
    "    diff = 24*60-(Ti-Tf)\n",
    "\n",
    "horas = diff // 60\n",
    "minutos = diff % 60\n",
    "print(\"O JOGO DUROU\", horas, \"HORA(S) E\", minutos,\"MINUTO(S)\")"
   ]
  },
  {
   "cell_type": "code",
   "execution_count": null,
   "id": "16aa80f3-58f9-4935-b5c3-d76d39ee7467",
   "metadata": {},
   "outputs": [],
   "source": []
  }
 ],
 "metadata": {
  "kernelspec": {
   "display_name": "Python 3 (ipykernel)",
   "language": "python",
   "name": "python3"
  },
  "language_info": {
   "codemirror_mode": {
    "name": "ipython",
    "version": 3
   },
   "file_extension": ".py",
   "mimetype": "text/x-python",
   "name": "python",
   "nbconvert_exporter": "python",
   "pygments_lexer": "ipython3",
   "version": "3.10.8"
  }
 },
 "nbformat": 4,
 "nbformat_minor": 5
}
