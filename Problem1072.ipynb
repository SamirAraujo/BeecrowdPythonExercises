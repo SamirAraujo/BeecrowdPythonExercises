{
 "cells": [
  {
   "cell_type": "markdown",
   "id": "00f78dfe-a904-4f45-8a8d-28a485757079",
   "metadata": {},
   "source": [
    "Problem: https://www.beecrowd.com.br/judge/pt/problems/view/1072"
   ]
  },
  {
   "cell_type": "code",
   "execution_count": null,
   "id": "07af8b6b-79f0-48d3-8681-f929a41e0d40",
   "metadata": {},
   "outputs": [],
   "source": [
    "N= int(input())\n",
    "i=0\n",
    "in0 = 0\n",
    "out0 = 0\n",
    "\n",
    "while i < N:\n",
    "    X = int(input())\n",
    "    i=i+1\n",
    "    if 10<=X<=20:\n",
    "        in0=in0+1\n",
    "    else:\n",
    "        out0=out0+1\n",
    "\n",
    "print(in0,\"in\")\n",
    "print(out0,\"out\")"
   ]
  },
  {
   "cell_type": "code",
   "execution_count": null,
   "id": "8529505d-b9e8-44fa-b869-f0acc3a2af0d",
   "metadata": {},
   "outputs": [],
   "source": []
  }
 ],
 "metadata": {
  "kernelspec": {
   "display_name": "Python 3 (ipykernel)",
   "language": "python",
   "name": "python3"
  },
  "language_info": {
   "codemirror_mode": {
    "name": "ipython",
    "version": 3
   },
   "file_extension": ".py",
   "mimetype": "text/x-python",
   "name": "python",
   "nbconvert_exporter": "python",
   "pygments_lexer": "ipython3",
   "version": "3.10.8"
  }
 },
 "nbformat": 4,
 "nbformat_minor": 5
}
