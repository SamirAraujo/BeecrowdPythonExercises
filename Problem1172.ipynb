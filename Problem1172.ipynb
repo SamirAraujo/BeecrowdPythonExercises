{
 "cells": [
  {
   "cell_type": "markdown",
   "id": "43e7ab91-65a2-4b9a-9ade-67e27999a5ec",
   "metadata": {},
   "source": [
    "Problem https://www.beecrowd.com.br/judge/pt/problems/view/1172"
   ]
  },
  {
   "cell_type": "code",
   "execution_count": null,
   "id": "b3d228d9-7f78-40c0-982f-351c2fc9f4cc",
   "metadata": {},
   "outputs": [],
   "source": [
    "X = [0,1,2,3,4,5,6,7,8,9,10]\n",
    "for i in range(10):\n",
    "    X[i] = int(input())\n",
    "    \n",
    "    if X[i]<=0:\n",
    "        X[i] = 1\n",
    "        \n",
    "    print(\"X[{}] = {}\".format(i,X[i]))"
   ]
  },
  {
   "cell_type": "code",
   "execution_count": null,
   "id": "71653d07-ac91-4d3e-a519-0140b4ec3c53",
   "metadata": {},
   "outputs": [],
   "source": []
  }
 ],
 "metadata": {
  "kernelspec": {
   "display_name": "Python 3 (ipykernel)",
   "language": "python",
   "name": "python3"
  },
  "language_info": {
   "codemirror_mode": {
    "name": "ipython",
    "version": 3
   },
   "file_extension": ".py",
   "mimetype": "text/x-python",
   "name": "python",
   "nbconvert_exporter": "python",
   "pygments_lexer": "ipython3",
   "version": "3.10.8"
  }
 },
 "nbformat": 4,
 "nbformat_minor": 5
}
