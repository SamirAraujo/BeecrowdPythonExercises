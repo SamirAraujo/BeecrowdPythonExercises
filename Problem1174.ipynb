{
 "cells": [
  {
   "cell_type": "markdown",
   "id": "5acb8d28-50e6-4f2c-bb42-db57511857ed",
   "metadata": {},
   "source": [
    "Problem: https://www.beecrowd.com.br/judge/pt/problems/view/1174"
   ]
  },
  {
   "cell_type": "code",
   "execution_count": null,
   "id": "0a058ada-6d40-4a0a-bbab-7f0d5d053c6b",
   "metadata": {},
   "outputs": [],
   "source": [
    "A = []\n",
    "\n",
    "for x in range(100):\n",
    "    X = float(input())\n",
    "    A.append(X)\n",
    "    if A[x] <=10:\n",
    "        print(\"A[{}] = {:.1f}\".format(x,A[x]))"
   ]
  },
  {
   "cell_type": "code",
   "execution_count": null,
   "id": "8ea6292e-08a0-450c-b079-2794732196b8",
   "metadata": {},
   "outputs": [],
   "source": []
  }
 ],
 "metadata": {
  "kernelspec": {
   "display_name": "Python 3 (ipykernel)",
   "language": "python",
   "name": "python3"
  },
  "language_info": {
   "codemirror_mode": {
    "name": "ipython",
    "version": 3
   },
   "file_extension": ".py",
   "mimetype": "text/x-python",
   "name": "python",
   "nbconvert_exporter": "python",
   "pygments_lexer": "ipython3",
   "version": "3.10.8"
  }
 },
 "nbformat": 4,
 "nbformat_minor": 5
}
